{
 "cells": [
  {
   "cell_type": "code",
   "execution_count": 6,
   "id": "77683e66",
   "metadata": {},
   "outputs": [
    {
     "name": "stderr",
     "output_type": "stream",
     "text": [
      "C:\\Users\\Lorry\\AppData\\Local\\Temp/ipykernel_41480/3626568302.py:5: UserWarning: registration of accessor <class '__main__.GeoAccessor'> under name 'geo' for type <class 'pandas.core.frame.DataFrame'> is overriding a preexisting attribute with the same name.\n",
      "  class GeoAccessor:\n"
     ]
    }
   ],
   "source": [
    "import pandas as pd\n",
    "import numpy as np\n",
    "import matplotlib.pyplot as plt\n",
    "@pd.api.extensions.register_dataframe_accessor(\"geo\")\n",
    "class GeoAccessor:\n",
    "    def __init__(self, pandas_obj):\n",
    "        self._validate(pandas_obj)\n",
    "        self._obj = pandas_obj\n",
    "\n",
    "    @staticmethod\n",
    "    def _validate(obj):\n",
    "        # verify there is a column latitude and a column longitude\n",
    "        if \"latitude\" not in obj.columns or \"longitude\" not in obj.columns:\n",
    "            raise AttributeError(\"Must have 'latitude' and 'longitude'.\")\n",
    "\n",
    "    @property\n",
    "    def center(self):\n",
    "        # return the geographic center point of this DataFrame\n",
    "        lat = self._obj.latitude\n",
    "        lon = self._obj.longitude\n",
    "        return (float(lon.mean()), float(lat.mean()))\n",
    "\n",
    "    def plot(self):\n",
    "        plt.figure(figsize=(7,7))       \n",
    "        lat = self._obj.latitude\n",
    "        lon = self._obj.longitude\n",
    "        x_max = max(lon)\n",
    "        y_max = max(lat)\n",
    "        plt.xlim(0, x_max+1)\n",
    "        plt.ylim(0, y_max+1)\n",
    "        plt.scatter(lon, lat)\n",
    "        plt.scatter([float(lon.mean())], [float(lat.mean())], marker='^', color='red')\n",
    "        plt.show()"
   ]
  },
  {
   "cell_type": "code",
   "execution_count": 7,
   "id": "a341a217",
   "metadata": {},
   "outputs": [
    {
     "data": {
      "text/plain": [
       "(5.0, 10.0)"
      ]
     },
     "execution_count": 7,
     "metadata": {},
     "output_type": "execute_result"
    }
   ],
   "source": [
    "ds = pd.DataFrame(\n",
    "    {\"longitude\": np.linspace(0, 10, 10), \"latitude\": np.linspace(0, 20, 10)}\n",
    ")\n",
    "ds.geo.center"
   ]
  },
  {
   "cell_type": "code",
   "execution_count": 8,
   "id": "adf009e5",
   "metadata": {},
   "outputs": [
    {
     "data": {
      "text/html": [
       "<div>\n",
       "<style scoped>\n",
       "    .dataframe tbody tr th:only-of-type {\n",
       "        vertical-align: middle;\n",
       "    }\n",
       "\n",
       "    .dataframe tbody tr th {\n",
       "        vertical-align: top;\n",
       "    }\n",
       "\n",
       "    .dataframe thead th {\n",
       "        text-align: right;\n",
       "    }\n",
       "</style>\n",
       "<table border=\"1\" class=\"dataframe\">\n",
       "  <thead>\n",
       "    <tr style=\"text-align: right;\">\n",
       "      <th></th>\n",
       "      <th>longitude</th>\n",
       "      <th>latitude</th>\n",
       "    </tr>\n",
       "  </thead>\n",
       "  <tbody>\n",
       "    <tr>\n",
       "      <th>0</th>\n",
       "      <td>0.000000</td>\n",
       "      <td>0.000000</td>\n",
       "    </tr>\n",
       "    <tr>\n",
       "      <th>1</th>\n",
       "      <td>1.111111</td>\n",
       "      <td>2.222222</td>\n",
       "    </tr>\n",
       "    <tr>\n",
       "      <th>2</th>\n",
       "      <td>2.222222</td>\n",
       "      <td>4.444444</td>\n",
       "    </tr>\n",
       "    <tr>\n",
       "      <th>3</th>\n",
       "      <td>3.333333</td>\n",
       "      <td>6.666667</td>\n",
       "    </tr>\n",
       "    <tr>\n",
       "      <th>4</th>\n",
       "      <td>4.444444</td>\n",
       "      <td>8.888889</td>\n",
       "    </tr>\n",
       "    <tr>\n",
       "      <th>5</th>\n",
       "      <td>5.555556</td>\n",
       "      <td>11.111111</td>\n",
       "    </tr>\n",
       "    <tr>\n",
       "      <th>6</th>\n",
       "      <td>6.666667</td>\n",
       "      <td>13.333333</td>\n",
       "    </tr>\n",
       "    <tr>\n",
       "      <th>7</th>\n",
       "      <td>7.777778</td>\n",
       "      <td>15.555556</td>\n",
       "    </tr>\n",
       "    <tr>\n",
       "      <th>8</th>\n",
       "      <td>8.888889</td>\n",
       "      <td>17.777778</td>\n",
       "    </tr>\n",
       "    <tr>\n",
       "      <th>9</th>\n",
       "      <td>10.000000</td>\n",
       "      <td>20.000000</td>\n",
       "    </tr>\n",
       "  </tbody>\n",
       "</table>\n",
       "</div>"
      ],
      "text/plain": [
       "   longitude   latitude\n",
       "0   0.000000   0.000000\n",
       "1   1.111111   2.222222\n",
       "2   2.222222   4.444444\n",
       "3   3.333333   6.666667\n",
       "4   4.444444   8.888889\n",
       "5   5.555556  11.111111\n",
       "6   6.666667  13.333333\n",
       "7   7.777778  15.555556\n",
       "8   8.888889  17.777778\n",
       "9  10.000000  20.000000"
      ]
     },
     "execution_count": 8,
     "metadata": {},
     "output_type": "execute_result"
    }
   ],
   "source": [
    "ds"
   ]
  },
  {
   "cell_type": "code",
   "execution_count": 9,
   "id": "28b0c860",
   "metadata": {},
   "outputs": [
    {
     "data": {
      "image/png": "[encoded data removed]",
      "text/plain": [
       "<Figure size 504x504 with 1 Axes>"
      ]
     },
     "metadata": {
      "needs_background": "light"
     },
     "output_type": "display_data"
    }
   ],
   "source": [
    "ds.geo.plot()                        "
   ]
  },
  {
   "cell_type": "code",
   "execution_count": 17,
   "id": "82063aca",
   "metadata": {},
   "outputs": [
    {
     "name": "stderr",
     "output_type": "stream",
     "text": [
      "C:\\Users\\Lorry\\AppData\\Local\\Temp/ipykernel_40748/730696912.py:2: UserWarning: registration of accessor <class '__main__.RectangleAccessor'> under name 'rectangle' for type <class 'pandas.core.frame.DataFrame'> is overriding a preexisting attribute with the same name.\n",
      "  class RectangleAccessor:\n"
     ]
    }
   ],
   "source": [
    "@pd.api.extensions.register_dataframe_accessor(\"rectangle\")\n",
    "class RectangleAccessor:\n",
    "    def __init__(self, pandas_obj):\n",
    "        self._validate(pandas_obj)\n",
    "        self._obj = pandas_obj\n",
    "\n",
    "    @staticmethod\n",
    "    def _validate(obj):\n",
    "        # verify there is a column 'length' and a column 'width'\n",
    "        if \"length\" not in obj.columns or \"width\" not in obj.columns:\n",
    "            raise AttributeError(\"Must have 'length' and 'width'.\")\n",
    "\n",
    "    @property\n",
    "    def area(self):\n",
    "        length = self._obj.length\n",
    "        width = self._obj.width\n",
    "        return length*width\n",
    "    \n",
    "    @property\n",
    "    def perimeter(self):\n",
    "        length = self._obj.length\n",
    "        width = self._obj.width\n",
    "        return (length*2+width*2)\n",
    "    \n",
    "    def plot(self):\n",
    "        # plot this array's data on a map, e.g., using Cartopy\n",
    "        pass"
   ]
  },
  {
   "cell_type": "code",
   "execution_count": 18,
   "id": "0f243c2f",
   "metadata": {},
   "outputs": [
    {
     "data": {
      "text/html": [
       "<div>\n",
       "<style scoped>\n",
       "    .dataframe tbody tr th:only-of-type {\n",
       "        vertical-align: middle;\n",
       "    }\n",
       "\n",
       "    .dataframe tbody tr th {\n",
       "        vertical-align: top;\n",
       "    }\n",
       "\n",
       "    .dataframe thead th {\n",
       "        text-align: right;\n",
       "    }\n",
       "</style>\n",
       "<table border=\"1\" class=\"dataframe\">\n",
       "  <thead>\n",
       "    <tr style=\"text-align: right;\">\n",
       "      <th></th>\n",
       "      <th>length</th>\n",
       "      <th>width</th>\n",
       "    </tr>\n",
       "  </thead>\n",
       "  <tbody>\n",
       "    <tr>\n",
       "      <th>0</th>\n",
       "      <td>0.0</td>\n",
       "      <td>0.0</td>\n",
       "    </tr>\n",
       "    <tr>\n",
       "      <th>1</th>\n",
       "      <td>1.0</td>\n",
       "      <td>2.0</td>\n",
       "    </tr>\n",
       "    <tr>\n",
       "      <th>2</th>\n",
       "      <td>2.0</td>\n",
       "      <td>4.0</td>\n",
       "    </tr>\n",
       "    <tr>\n",
       "      <th>3</th>\n",
       "      <td>3.0</td>\n",
       "      <td>6.0</td>\n",
       "    </tr>\n",
       "    <tr>\n",
       "      <th>4</th>\n",
       "      <td>4.0</td>\n",
       "      <td>8.0</td>\n",
       "    </tr>\n",
       "    <tr>\n",
       "      <th>5</th>\n",
       "      <td>5.0</td>\n",
       "      <td>10.0</td>\n",
       "    </tr>\n",
       "    <tr>\n",
       "      <th>6</th>\n",
       "      <td>6.0</td>\n",
       "      <td>12.0</td>\n",
       "    </tr>\n",
       "    <tr>\n",
       "      <th>7</th>\n",
       "      <td>7.0</td>\n",
       "      <td>14.0</td>\n",
       "    </tr>\n",
       "    <tr>\n",
       "      <th>8</th>\n",
       "      <td>8.0</td>\n",
       "      <td>16.0</td>\n",
       "    </tr>\n",
       "    <tr>\n",
       "      <th>9</th>\n",
       "      <td>9.0</td>\n",
       "      <td>18.0</td>\n",
       "    </tr>\n",
       "  </tbody>\n",
       "</table>\n",
       "</div>"
      ],
      "text/plain": [
       "   length  width\n",
       "0     0.0    0.0\n",
       "1     1.0    2.0\n",
       "2     2.0    4.0\n",
       "3     3.0    6.0\n",
       "4     4.0    8.0\n",
       "5     5.0   10.0\n",
       "6     6.0   12.0\n",
       "7     7.0   14.0\n",
       "8     8.0   16.0\n",
       "9     9.0   18.0"
      ]
     },
     "execution_count": 18,
     "metadata": {},
     "output_type": "execute_result"
    }
   ],
   "source": [
    "df = pd.DataFrame(\n",
    "    {\"length\": np.linspace(0, 10, 10, endpoint=False), \"width\": np.linspace(0, 20, 10, endpoint=False)}\n",
    ")\n",
    "df"
   ]
  },
  {
   "cell_type": "code",
   "execution_count": 19,
   "id": "7b36e096",
   "metadata": {},
   "outputs": [
    {
     "data": {
      "text/plain": [
       "0      0.0\n",
       "1      2.0\n",
       "2      8.0\n",
       "3     18.0\n",
       "4     32.0\n",
       "5     50.0\n",
       "6     72.0\n",
       "7     98.0\n",
       "8    128.0\n",
       "9    162.0\n",
       "dtype: float64"
      ]
     },
     "execution_count": 19,
     "metadata": {},
     "output_type": "execute_result"
    }
   ],
   "source": [
    "df.rectangle.area"
   ]
  },
  {
   "cell_type": "code",
   "execution_count": 20,
   "id": "241bf049",
   "metadata": {},
   "outputs": [
    {
     "data": {
      "text/plain": [
       "0     0.0\n",
       "1     6.0\n",
       "2    12.0\n",
       "3    18.0\n",
       "4    24.0\n",
       "5    30.0\n",
       "6    36.0\n",
       "7    42.0\n",
       "8    48.0\n",
       "9    54.0\n",
       "dtype: float64"
      ]
     },
     "execution_count": 20,
     "metadata": {},
     "output_type": "execute_result"
    }
   ],
   "source": [
    "df.rectangle.perimeter"
   ]
  },
  {
   "cell_type": "code",
   "execution_count": 21,
   "id": "69dd609c",
   "metadata": {},
   "outputs": [
    {
     "data": {
      "text/plain": [
       "1    6.0\n",
       "dtype: float64"
      ]
     },
     "execution_count": 21,
     "metadata": {},
     "output_type": "execute_result"
    }
   ],
   "source": [
    "df.iloc[1:2].rectangle.perimeter"
   ]
  },
  {
   "cell_type": "code",
   "execution_count": 51,
   "id": "9c4ffb31",
   "metadata": {},
   "outputs": [
    {
     "name": "stderr",
     "output_type": "stream",
     "text": [
      "C:\\Users\\Lorry\\AppData\\Local\\Temp/ipykernel_40748/3520204219.py:2: UserWarning: registration of accessor <class '__main__.PointAccessor'> under name 'Point' for type <class 'pandas.core.frame.DataFrame'> is overriding a preexisting attribute with the same name.\n",
      "  class PointAccessor:\n"
     ]
    }
   ],
   "source": [
    "@pd.api.extensions.register_dataframe_accessor(\"Point\")\n",
    "class PointAccessor:\n",
    "    def __init__(self, pandas_obj):\n",
    "        self._validate(pandas_obj)\n",
    "        self._obj=pandas_obj\n",
    "    \n",
    "    @staticmethod\n",
    "    def _validate(obj):\n",
    "        if (len(obj.columns)!=3):\n",
    "            raise AttributeError(\"Must have 3 columns.\")\n",
    "            return\n",
    "        if 'x' not in obj.columns or 'y' not in obj.columns or 'z' not in obj.columns:\n",
    "            raise AttributeError(\"Must have x, y, and z.\")\n",
    "            return\n",
    "    \n",
    "    @property\n",
    "    def distance(self):\n",
    "        x = self._obj.x\n",
    "        y = self._obj.y\n",
    "        z = self._obj.z\n",
    "        return (x**2+y**2+z**2)\n",
    "    \n",
    "    def dotProduct(self, a, b):\n",
    "        x1 = self._obj.iloc[a]['x']\n",
    "        y1 = self._obj.iloc[a]['y']\n",
    "        z1 = self._obj.iloc[a]['z']\n",
    "        x2 = self._obj.iloc[b]['x']\n",
    "        y2 = self._obj.iloc[b]['y']\n",
    "        z2 = self._obj.iloc[b]['z']\n",
    "        return (x1*x2+y1*y2+z1*z2)\n",
    "    \n",
    "    def crossProduct(self, a, b):\n",
    "        x1 = self._obj.iloc[a]['x']\n",
    "        y1 = self._obj.iloc[a]['y']\n",
    "        z1 = self._obj.iloc[a]['z']\n",
    "        x2 = self._obj.iloc[b]['x']\n",
    "        y2 = self._obj.iloc[b]['y']\n",
    "        z2 = self._obj.iloc[b]['z']\n",
    "        return ((y1*z2-z1*y2), (z1*x2-x1*z2), (x1*y2-y1*x2))"
   ]
  },
  {
   "cell_type": "code",
   "execution_count": 52,
   "id": "a0198314",
   "metadata": {},
   "outputs": [
    {
     "data": {
      "text/html": [
       "<div>\n",
       "<style scoped>\n",
       "    .dataframe tbody tr th:only-of-type {\n",
       "        vertical-align: middle;\n",
       "    }\n",
       "\n",
       "    .dataframe tbody tr th {\n",
       "        vertical-align: top;\n",
       "    }\n",
       "\n",
       "    .dataframe thead th {\n",
       "        text-align: right;\n",
       "    }\n",
       "</style>\n",
       "<table border=\"1\" class=\"dataframe\">\n",
       "  <thead>\n",
       "    <tr style=\"text-align: right;\">\n",
       "      <th></th>\n",
       "      <th>x</th>\n",
       "      <th>y</th>\n",
       "      <th>z</th>\n",
       "    </tr>\n",
       "  </thead>\n",
       "  <tbody>\n",
       "    <tr>\n",
       "      <th>0</th>\n",
       "      <td>0.0</td>\n",
       "      <td>0.0</td>\n",
       "      <td>0.0</td>\n",
       "    </tr>\n",
       "    <tr>\n",
       "      <th>1</th>\n",
       "      <td>1.0</td>\n",
       "      <td>2.0</td>\n",
       "      <td>1.0</td>\n",
       "    </tr>\n",
       "    <tr>\n",
       "      <th>2</th>\n",
       "      <td>2.0</td>\n",
       "      <td>4.0</td>\n",
       "      <td>2.0</td>\n",
       "    </tr>\n",
       "    <tr>\n",
       "      <th>3</th>\n",
       "      <td>3.0</td>\n",
       "      <td>6.0</td>\n",
       "      <td>3.0</td>\n",
       "    </tr>\n",
       "    <tr>\n",
       "      <th>4</th>\n",
       "      <td>4.0</td>\n",
       "      <td>8.0</td>\n",
       "      <td>4.0</td>\n",
       "    </tr>\n",
       "  </tbody>\n",
       "</table>\n",
       "</div>"
      ],
      "text/plain": [
       "     x    y    z\n",
       "0  0.0  0.0  0.0\n",
       "1  1.0  2.0  1.0\n",
       "2  2.0  4.0  2.0\n",
       "3  3.0  6.0  3.0\n",
       "4  4.0  8.0  4.0"
      ]
     },
     "execution_count": 52,
     "metadata": {},
     "output_type": "execute_result"
    }
   ],
   "source": [
    "df2 = pd.DataFrame(\n",
    "    {\"x\": np.linspace(0, 5, 5, endpoint=False), \n",
    "     \"y\": np.linspace(0, 10, 5, endpoint=False),\n",
    "     \"z\": np.linspace(0, 5, 5, endpoint=False)}\n",
    ")\n",
    "df2"
   ]
  },
  {
   "cell_type": "code",
   "execution_count": 53,
   "id": "f370f26e",
   "metadata": {},
   "outputs": [
    {
     "data": {
      "text/plain": [
       "0     0.0\n",
       "1     6.0\n",
       "2    24.0\n",
       "3    54.0\n",
       "4    96.0\n",
       "dtype: float64"
      ]
     },
     "execution_count": 53,
     "metadata": {},
     "output_type": "execute_result"
    }
   ],
   "source": [
    "df2.Point.distance"
   ]
  },
  {
   "cell_type": "code",
   "execution_count": 56,
   "id": "3d2ac7f1",
   "metadata": {},
   "outputs": [
    {
     "data": {
      "text/plain": [
       "12.0"
      ]
     },
     "execution_count": 56,
     "metadata": {},
     "output_type": "execute_result"
    }
   ],
   "source": [
    "df2.Point.dotProduct(1,2)"
   ]
  },
  {
   "cell_type": "code",
   "execution_count": 58,
   "id": "56e83b32",
   "metadata": {},
   "outputs": [
    {
     "data": {
      "text/plain": [
       "(0.0, 0.0, 0.0)"
      ]
     },
     "execution_count": 58,
     "metadata": {},
     "output_type": "execute_result"
    }
   ],
   "source": [
    "df2.Point.crossProduct(1,3)"
   ]
  },
  {
   "cell_type": "code",
   "execution_count": null,
   "id": "d0f7ea55",
   "metadata": {},
   "outputs": [],
   "source": []
  }
 ],
 "metadata": {
  "kernelspec": {
   "display_name": "Python 3 (ipykernel)",
   "language": "python",
   "name": "python3"
  },
  "language_info": {
   "codemirror_mode": {
    "name": "ipython",
    "version": 3
   },
   "file_extension": ".py",
   "mimetype": "text/x-python",
   "name": "python",
   "nbconvert_exporter": "python",
   "pygments_lexer": "ipython3",
   "version": "3.9.7"
  }
 },
 "nbformat": 4,
 "nbformat_minor": 5
}
